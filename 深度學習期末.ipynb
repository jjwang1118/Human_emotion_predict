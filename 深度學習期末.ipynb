{
  "cells": [
    {
      "cell_type": "markdown",
      "metadata": {
        "id": "view-in-github",
        "colab_type": "text"
      },
      "source": [
        "<a href=\"https://colab.research.google.com/github/jjwang1118/Human_emotion_predict/blob/main/%E6%B7%B1%E5%BA%A6%E5%AD%B8%E7%BF%92%E6%9C%9F%E6%9C%AB.ipynb\" target=\"_parent\"><img src=\"https://colab.research.google.com/assets/colab-badge.svg\" alt=\"Open In Colab\"/></a>"
      ]
    },
    {
      "cell_type": "code",
      "execution_count": null,
      "metadata": {
        "id": "O16yMx0kZCZb"
      },
      "outputs": [],
      "source": [
        "import pandas as pd\n",
        "import numpy as np\n",
        "import tensorflow\n",
        "from tensorflow.keras.models import Sequential\n",
        "from tensorflow.keras.layers import Conv2D, MaxPooling2D\n",
        "from tensorflow.keras.layers import BatchNormalization, Activation\n",
        "from tensorflow.keras.layers import Dense, Dropout, Flatten\n",
        "from tensorflow.keras.utils import to_categorical\n",
        "from tensorflow.keras.regularizers import l2\n",
        "from tensorflow.keras.optimizers import SGD\n",
        "from tensorflow.keras.optimizers import Adam\n",
        "from tensorflow.keras.preprocessing.image import ImageDataGenerator\n",
        "from tensorflow.keras.callbacks import EarlyStopping\n",
        "from tensorflow.keras.callbacks import ReduceLROnPlateau\n",
        "from tensorflow.keras.models import load_model, save_model\n",
        "import matplotlib.pyplot as plt"
      ]
    },
    {
      "cell_type": "code",
      "execution_count": null,
      "metadata": {
        "colab": {
          "base_uri": "https://localhost:8080/"
        },
        "id": "Vai666qdFYAN",
        "outputId": "1d64f19d-8b24-4878-c317-e528bc3aa945"
      },
      "outputs": [
        {
          "name": "stdout",
          "output_type": "stream",
          "text": [
            "Drive already mounted at /content/drive; to attempt to forcibly remount, call drive.mount(\"/content/drive\", force_remount=True).\n"
          ]
        }
      ],
      "source": [
        "from google.colab import drive\n",
        "drive.mount('/content/drive')"
      ]
    },
    {
      "cell_type": "markdown",
      "metadata": {
        "id": "8c_QlOvVF-yD"
      },
      "source": [
        "其中，第0列是表情對應的數字類別，從0~1分別對應著表情：Angry（生氣）、Disgust（厭惡）、Fear（害怕）、Happy（高興）、Sad（生氣）、Surprise（驚訝）、Neutral（中立）。"
      ]
    },
    {
      "cell_type": "code",
      "execution_count": null,
      "metadata": {
        "id": "hc-7MGyHtAtF"
      },
      "outputs": [],
      "source": [
        "data=pd.read_csv(\"/content/drive/MyDrive/DL/fer2013.csv\")\n",
        "\n",
        "emotion_map={0:\"Angry\",1:\"Disgust\",2:\"Fear\",3:\"Happy\",4:\"Sad\",5:\"Surprise\",6:\"Neutral\"}\n",
        "\n",
        "# 初始化參數\n",
        "num_classes = 7\n",
        "width, height = 48, 48\n",
        "num_epochs = 100\n",
        "batch_size = 50\n",
        "num_features = 64\n",
        "rate_drop = 0.1\n"
      ]
    },
    {
      "cell_type": "code",
      "execution_count": null,
      "metadata": {
        "colab": {
          "base_uri": "https://localhost:8080/"
        },
        "id": "y5LqTBQ8oYu-",
        "outputId": "0908cad0-8d03-46cc-f6f0-2b1a6da0e9d9"
      },
      "outputs": [
        {
          "name": "stdout",
          "output_type": "stream",
          "text": [
            "Training 資料有 28709 筆\n",
            "PublicTest 資料有 3589 筆\n",
            "PrivateTest 資料有 3589 筆\n"
          ]
        }
      ],
      "source": [
        "#資料種類\n",
        "use_kind={\"Training\":0,\"PublicTest\":0,\"PrivateTest\":0}\n",
        "color = ['r','b','g','y','m']\n",
        "for usage in data[\"Usage\"]:\n",
        "  if usage in use_kind:\n",
        "    use_kind[usage]+=1\n",
        "for key in use_kind:\n",
        "  print(key,\"資料有\",use_kind[key],\"筆\")"
      ]
    },
    {
      "cell_type": "code",
      "execution_count": null,
      "metadata": {
        "colab": {
          "base_uri": "https://localhost:8080/",
          "height": 551
        },
        "id": "avHzmONqsCG3",
        "outputId": "ef707c87-f4cc-44ab-8989-4a94f0d1eb77"
      },
      "outputs": [
        {
          "name": "stdout",
          "output_type": "stream",
          "text": [
            "Angry有4953筆\n",
            "Disgust有547筆\n",
            "Fear有5121筆\n",
            "Happy有8989筆\n",
            "Sad有6077筆\n",
            "Surprise有4002筆\n",
            "Neutral有6198筆\n"
          ]
        },
        {
          "data": {
            "image/png": "[encoded data removed]",
            "text/plain": [
              "<Figure size 640x480 with 1 Axes>"
            ]
          },
          "metadata": {},
          "output_type": "display_data"
        }
      ],
      "source": [
        "#情緒資料統計\n",
        "emotion_kind=[0,0,0,0,0,0,0]\n",
        "for emotion in data[\"emotion\"]:\n",
        "  emotion_kind[emotion]+=1\n",
        "for i in range(7):\n",
        "    print(emotion_map[i] + \"有\" + str(emotion_kind[i]) + \"筆\")\n",
        "plt.figure()\n",
        "plt.bar(emotion_map.values(),emotion_kind,color=color,width=0.5)\n",
        "plt.savefig(\"/content/drive/MyDrive/DL/pict/count.png\")\n",
        "plt.show()"
      ]
    },
    {
      "cell_type": "code",
      "execution_count": null,
      "metadata": {
        "colab": {
          "base_uri": "https://localhost:8080/",
          "height": 519
        },
        "id": "JPKHuLaJujZv",
        "outputId": "063a1580-518a-4988-98d2-8eb9206feddf"
      },
      "outputs": [
        {
          "data": {
            "image/png": "[encoded data removed]",
            "text/plain": [
              "<Figure size 1600x1000 with 7 Axes>"
            ]
          },
          "metadata": {},
          "output_type": "display_data"
        }
      ],
      "source": [
        "#圖像顯示\n",
        "def showimage(row):\n",
        "  pixel,emotion=row[\"pixels\"],emotion_map[row[\"emotion\"]]\n",
        "  img=np.array(pixel.split())\n",
        "  img=np.reshape(img,(48,48))\n",
        "  image=np.zeros((48,48,3))\n",
        "  image[:,:,0]=img\n",
        "  image[:,:,1]=img\n",
        "  image[:,:,2]=img\n",
        "  return image.astype(np.uint8),emotion\n",
        "plt.figure(0,figsize=(16,10))\n",
        "for i in range(1,8):\n",
        "  face=data[data[\"emotion\"]==i-1].iloc[0]\n",
        "  img,label=showimage(face)\n",
        "  plt.subplot(2,4,i)\n",
        "  plt.imshow(img)\n",
        "  plt.title(label)\n",
        "plt.savefig(\"/content/drive/MyDrive/DL/pict/EMOTIONIMAGE.png\")\n",
        "plt.show()"
      ]
    },
    {
      "cell_type": "markdown",
      "metadata": {
        "id": "4K0JnAaVxD3n"
      },
      "source": []
    },
    {
      "cell_type": "markdown",
      "metadata": {
        "id": "ld8Syj-L-zH0"
      },
      "source": [
        "數據處理"
      ]
    },
    {
      "cell_type": "code",
      "execution_count": null,
      "metadata": {
        "id": "XlJprFkVAbIu"
      },
      "outputs": [],
      "source": [
        "\n",
        "\n",
        "def CRNO(df, dataName):\n",
        "    # 過濾掉像素長度不對的資料\n",
        "    df = df[df['pixels'].apply(lambda x: len(x.split()) == 48*48 if isinstance(x, str) else len(x) == 48*48)]\n",
        "\n",
        "    # 把像素字串轉 list\n",
        "    df['pixels'] = df['pixels'].apply(\n",
        "        lambda x: [int(p) for p in x.split()] if isinstance(x, str) else x\n",
        "    )\n",
        "\n",
        "    # 轉成 numpy array 並正規化\n",
        "    data_X = np.array(df['pixels'].tolist(), dtype='float32').reshape(-1, 48, 48, 1)\n",
        "    data_X = data_X / 255.0\n",
        "\n",
        "    # One-hot 編碼\n",
        "    data_Y = to_categorical(df['emotion'], num_classes=7)\n",
        "\n",
        "    print(f\"{dataName}_X shape: {data_X.shape}, {dataName}_Y shape: {data_Y.shape}\")\n",
        "    return data_X, data_Y\n",
        "\n"
      ]
    },
    {
      "cell_type": "code",
      "execution_count": null,
      "metadata": {
        "colab": {
          "base_uri": "https://localhost:8080/"
        },
        "id": "HDjuyDIfH43N",
        "outputId": "d3c36daa-ce17-445f-c35a-03e498e14e68"
      },
      "outputs": [
        {
          "name": "stdout",
          "output_type": "stream",
          "text": [
            "train_X shape: (28709, 48, 48, 1), train_Y shape: (28709, 7)\n",
            "valid_X shape: (3589, 48, 48, 1), valid_Y shape: (3589, 7)\n",
            "test_X shape: (3589, 48, 48, 1), test_Y shape: (3589, 7)\n"
          ]
        }
      ],
      "source": [
        "#資料分割\n",
        "train_data = data[data[\"Usage\"]==\"Training\"].copy()\n",
        "valid_data = data[data[\"Usage\"]==\"PublicTest\"].copy()\n",
        "test_data = data[data[\"Usage\"]==\"PrivateTest\"].copy()\n",
        "\n",
        "\n",
        "\n",
        "train_data_x,train_data_y=CRNO(train_data,\"train\")\n",
        "valid_data_x,valid_data_y=CRNO(valid_data,\"valid\")\n",
        "test_data_x,test_data_y=CRNO(test_data,\"test\")"
      ]
    },
    {
      "cell_type": "code",
      "execution_count": null,
      "metadata": {
        "colab": {
          "base_uri": "https://localhost:8080/"
        },
        "id": "BXEPodUOeplM",
        "outputId": "ca24fc16-05a3-4537-b570-d09d1a512f51"
      },
      "outputs": [
        {
          "name": "stdout",
          "output_type": "stream",
          "text": [
            "(3589, 48, 48, 1)\n",
            "[[0.6666667  0.4627451  0.39607844 ... 0.4392157  0.5137255  0.4862745 ]\n",
            " [0.65882355 0.49019608 0.42352942 ... 0.43529412 0.4862745  0.52156866]\n",
            " [0.6784314  0.5254902  0.44313726 ... 0.40392157 0.44705883 0.5019608 ]\n",
            " ...\n",
            " [0.32156864 0.41568628 0.3882353  ... 0.6431373  0.5176471  0.49803922]\n",
            " [0.3764706  0.4117647  0.38431373 ... 0.63529414 0.50980395 0.5176471 ]\n",
            " [0.40784314 0.40392157 0.3882353  ... 0.62352943 0.52156866 0.5137255 ]]\n"
          ]
        }
      ],
      "source": [
        "print(test_data_x.shape)  # (35887, 48, 48, 1)\n",
        "print(test_data_x[0][:,:,0])  # 顯示第一張圖的像素矩陣\n"
      ]
    },
    {
      "cell_type": "code",
      "execution_count": null,
      "metadata": {
        "colab": {
          "base_uri": "https://localhost:8080/",
          "height": 1000
        },
        "id": "bKKkvWG3KQzv",
        "outputId": "973b20be-59b5-4c33-c26e-862cf254b7d5"
      },
      "outputs": [
        {
          "name": "stderr",
          "output_type": "stream",
          "text": [
            "/usr/local/lib/python3.11/dist-packages/keras/src/layers/convolutional/base_conv.py:107: UserWarning: Do not pass an `input_shape`/`input_dim` argument to a layer. When using Sequential models, prefer using an `Input(shape)` object as the first layer in the model instead.\n",
            "  super().__init__(activity_regularizer=activity_regularizer, **kwargs)\n"
          ]
        },
        {
          "data": {
            "text/html": [
              "<pre style=\"white-space:pre;overflow-x:auto;line-height:normal;font-family:Menlo,'DejaVu Sans Mono',consolas,'Courier New',monospace\"><span style=\"font-weight: bold\">Model: \"sequential\"</span>\n",
              "</pre>\n"
            ],
            "text/plain": [
              "\u001b[1mModel: \"sequential\"\u001b[0m\n"
            ]
          },
          "metadata": {},
          "output_type": "display_data"
        },
        {
          "data": {
            "text/html": [
              "<pre style=\"white-space:pre;overflow-x:auto;line-height:normal;font-family:Menlo,'DejaVu Sans Mono',consolas,'Courier New',monospace\">┏━━━━━━━━━━━━━━━━━━━━━━━━━━━━━━━━━┳━━━━━━━━━━━━━━━━━━━━━━━━┳━━━━━━━━━━━━━━━┓\n",
              "┃<span style=\"font-weight: bold\"> Layer (type)                    </span>┃<span style=\"font-weight: bold\"> Output Shape           </span>┃<span style=\"font-weight: bold\">       Param # </span>┃\n",
              "┡━━━━━━━━━━━━━━━━━━━━━━━━━━━━━━━━━╇━━━━━━━━━━━━━━━━━━━━━━━━╇━━━━━━━━━━━━━━━┩\n",
              "│ conv2d (<span style=\"color: #0087ff; text-decoration-color: #0087ff\">Conv2D</span>)                 │ (<span style=\"color: #00d7ff; text-decoration-color: #00d7ff\">None</span>, <span style=\"color: #00af00; text-decoration-color: #00af00\">48</span>, <span style=\"color: #00af00; text-decoration-color: #00af00\">48</span>, <span style=\"color: #00af00; text-decoration-color: #00af00\">64</span>)     │           <span style=\"color: #00af00; text-decoration-color: #00af00\">640</span> │\n",
              "├─────────────────────────────────┼────────────────────────┼───────────────┤\n",
              "│ batch_normalization             │ (<span style=\"color: #00d7ff; text-decoration-color: #00d7ff\">None</span>, <span style=\"color: #00af00; text-decoration-color: #00af00\">48</span>, <span style=\"color: #00af00; text-decoration-color: #00af00\">48</span>, <span style=\"color: #00af00; text-decoration-color: #00af00\">64</span>)     │           <span style=\"color: #00af00; text-decoration-color: #00af00\">256</span> │\n",
              "│ (<span style=\"color: #0087ff; text-decoration-color: #0087ff\">BatchNormalization</span>)            │                        │               │\n",
              "├─────────────────────────────────┼────────────────────────┼───────────────┤\n",
              "│ activation (<span style=\"color: #0087ff; text-decoration-color: #0087ff\">Activation</span>)         │ (<span style=\"color: #00d7ff; text-decoration-color: #00d7ff\">None</span>, <span style=\"color: #00af00; text-decoration-color: #00af00\">48</span>, <span style=\"color: #00af00; text-decoration-color: #00af00\">48</span>, <span style=\"color: #00af00; text-decoration-color: #00af00\">64</span>)     │             <span style=\"color: #00af00; text-decoration-color: #00af00\">0</span> │\n",
              "├─────────────────────────────────┼────────────────────────┼───────────────┤\n",
              "│ conv2d_1 (<span style=\"color: #0087ff; text-decoration-color: #0087ff\">Conv2D</span>)               │ (<span style=\"color: #00d7ff; text-decoration-color: #00d7ff\">None</span>, <span style=\"color: #00af00; text-decoration-color: #00af00\">48</span>, <span style=\"color: #00af00; text-decoration-color: #00af00\">48</span>, <span style=\"color: #00af00; text-decoration-color: #00af00\">128</span>)    │        <span style=\"color: #00af00; text-decoration-color: #00af00\">73,856</span> │\n",
              "├─────────────────────────────────┼────────────────────────┼───────────────┤\n",
              "│ batch_normalization_1           │ (<span style=\"color: #00d7ff; text-decoration-color: #00d7ff\">None</span>, <span style=\"color: #00af00; text-decoration-color: #00af00\">48</span>, <span style=\"color: #00af00; text-decoration-color: #00af00\">48</span>, <span style=\"color: #00af00; text-decoration-color: #00af00\">128</span>)    │           <span style=\"color: #00af00; text-decoration-color: #00af00\">512</span> │\n",
              "│ (<span style=\"color: #0087ff; text-decoration-color: #0087ff\">BatchNormalization</span>)            │                        │               │\n",
              "├─────────────────────────────────┼────────────────────────┼───────────────┤\n",
              "│ activation_1 (<span style=\"color: #0087ff; text-decoration-color: #0087ff\">Activation</span>)       │ (<span style=\"color: #00d7ff; text-decoration-color: #00d7ff\">None</span>, <span style=\"color: #00af00; text-decoration-color: #00af00\">48</span>, <span style=\"color: #00af00; text-decoration-color: #00af00\">48</span>, <span style=\"color: #00af00; text-decoration-color: #00af00\">128</span>)    │             <span style=\"color: #00af00; text-decoration-color: #00af00\">0</span> │\n",
              "├─────────────────────────────────┼────────────────────────┼───────────────┤\n",
              "│ conv2d_2 (<span style=\"color: #0087ff; text-decoration-color: #0087ff\">Conv2D</span>)               │ (<span style=\"color: #00d7ff; text-decoration-color: #00d7ff\">None</span>, <span style=\"color: #00af00; text-decoration-color: #00af00\">48</span>, <span style=\"color: #00af00; text-decoration-color: #00af00\">48</span>, <span style=\"color: #00af00; text-decoration-color: #00af00\">128</span>)    │       <span style=\"color: #00af00; text-decoration-color: #00af00\">147,584</span> │\n",
              "├─────────────────────────────────┼────────────────────────┼───────────────┤\n",
              "│ batch_normalization_2           │ (<span style=\"color: #00d7ff; text-decoration-color: #00d7ff\">None</span>, <span style=\"color: #00af00; text-decoration-color: #00af00\">48</span>, <span style=\"color: #00af00; text-decoration-color: #00af00\">48</span>, <span style=\"color: #00af00; text-decoration-color: #00af00\">128</span>)    │           <span style=\"color: #00af00; text-decoration-color: #00af00\">512</span> │\n",
              "│ (<span style=\"color: #0087ff; text-decoration-color: #0087ff\">BatchNormalization</span>)            │                        │               │\n",
              "├─────────────────────────────────┼────────────────────────┼───────────────┤\n",
              "│ activation_2 (<span style=\"color: #0087ff; text-decoration-color: #0087ff\">Activation</span>)       │ (<span style=\"color: #00d7ff; text-decoration-color: #00d7ff\">None</span>, <span style=\"color: #00af00; text-decoration-color: #00af00\">48</span>, <span style=\"color: #00af00; text-decoration-color: #00af00\">48</span>, <span style=\"color: #00af00; text-decoration-color: #00af00\">128</span>)    │             <span style=\"color: #00af00; text-decoration-color: #00af00\">0</span> │\n",
              "├─────────────────────────────────┼────────────────────────┼───────────────┤\n",
              "│ max_pooling2d (<span style=\"color: #0087ff; text-decoration-color: #0087ff\">MaxPooling2D</span>)    │ (<span style=\"color: #00d7ff; text-decoration-color: #00d7ff\">None</span>, <span style=\"color: #00af00; text-decoration-color: #00af00\">24</span>, <span style=\"color: #00af00; text-decoration-color: #00af00\">24</span>, <span style=\"color: #00af00; text-decoration-color: #00af00\">128</span>)    │             <span style=\"color: #00af00; text-decoration-color: #00af00\">0</span> │\n",
              "├─────────────────────────────────┼────────────────────────┼───────────────┤\n",
              "│ conv2d_3 (<span style=\"color: #0087ff; text-decoration-color: #0087ff\">Conv2D</span>)               │ (<span style=\"color: #00d7ff; text-decoration-color: #00d7ff\">None</span>, <span style=\"color: #00af00; text-decoration-color: #00af00\">24</span>, <span style=\"color: #00af00; text-decoration-color: #00af00\">24</span>, <span style=\"color: #00af00; text-decoration-color: #00af00\">256</span>)    │       <span style=\"color: #00af00; text-decoration-color: #00af00\">295,168</span> │\n",
              "├─────────────────────────────────┼────────────────────────┼───────────────┤\n",
              "│ batch_normalization_3           │ (<span style=\"color: #00d7ff; text-decoration-color: #00d7ff\">None</span>, <span style=\"color: #00af00; text-decoration-color: #00af00\">24</span>, <span style=\"color: #00af00; text-decoration-color: #00af00\">24</span>, <span style=\"color: #00af00; text-decoration-color: #00af00\">256</span>)    │         <span style=\"color: #00af00; text-decoration-color: #00af00\">1,024</span> │\n",
              "│ (<span style=\"color: #0087ff; text-decoration-color: #0087ff\">BatchNormalization</span>)            │                        │               │\n",
              "├─────────────────────────────────┼────────────────────────┼───────────────┤\n",
              "│ activation_3 (<span style=\"color: #0087ff; text-decoration-color: #0087ff\">Activation</span>)       │ (<span style=\"color: #00d7ff; text-decoration-color: #00d7ff\">None</span>, <span style=\"color: #00af00; text-decoration-color: #00af00\">24</span>, <span style=\"color: #00af00; text-decoration-color: #00af00\">24</span>, <span style=\"color: #00af00; text-decoration-color: #00af00\">256</span>)    │             <span style=\"color: #00af00; text-decoration-color: #00af00\">0</span> │\n",
              "├─────────────────────────────────┼────────────────────────┼───────────────┤\n",
              "│ conv2d_4 (<span style=\"color: #0087ff; text-decoration-color: #0087ff\">Conv2D</span>)               │ (<span style=\"color: #00d7ff; text-decoration-color: #00d7ff\">None</span>, <span style=\"color: #00af00; text-decoration-color: #00af00\">24</span>, <span style=\"color: #00af00; text-decoration-color: #00af00\">24</span>, <span style=\"color: #00af00; text-decoration-color: #00af00\">256</span>)    │       <span style=\"color: #00af00; text-decoration-color: #00af00\">590,080</span> │\n",
              "├─────────────────────────────────┼────────────────────────┼───────────────┤\n",
              "│ batch_normalization_4           │ (<span style=\"color: #00d7ff; text-decoration-color: #00d7ff\">None</span>, <span style=\"color: #00af00; text-decoration-color: #00af00\">24</span>, <span style=\"color: #00af00; text-decoration-color: #00af00\">24</span>, <span style=\"color: #00af00; text-decoration-color: #00af00\">256</span>)    │         <span style=\"color: #00af00; text-decoration-color: #00af00\">1,024</span> │\n",
              "│ (<span style=\"color: #0087ff; text-decoration-color: #0087ff\">BatchNormalization</span>)            │                        │               │\n",
              "├─────────────────────────────────┼────────────────────────┼───────────────┤\n",
              "│ activation_4 (<span style=\"color: #0087ff; text-decoration-color: #0087ff\">Activation</span>)       │ (<span style=\"color: #00d7ff; text-decoration-color: #00d7ff\">None</span>, <span style=\"color: #00af00; text-decoration-color: #00af00\">24</span>, <span style=\"color: #00af00; text-decoration-color: #00af00\">24</span>, <span style=\"color: #00af00; text-decoration-color: #00af00\">256</span>)    │             <span style=\"color: #00af00; text-decoration-color: #00af00\">0</span> │\n",
              "├─────────────────────────────────┼────────────────────────┼───────────────┤\n",
              "│ max_pooling2d_1 (<span style=\"color: #0087ff; text-decoration-color: #0087ff\">MaxPooling2D</span>)  │ (<span style=\"color: #00d7ff; text-decoration-color: #00d7ff\">None</span>, <span style=\"color: #00af00; text-decoration-color: #00af00\">12</span>, <span style=\"color: #00af00; text-decoration-color: #00af00\">12</span>, <span style=\"color: #00af00; text-decoration-color: #00af00\">256</span>)    │             <span style=\"color: #00af00; text-decoration-color: #00af00\">0</span> │\n",
              "├─────────────────────────────────┼────────────────────────┼───────────────┤\n",
              "│ conv2d_5 (<span style=\"color: #0087ff; text-decoration-color: #0087ff\">Conv2D</span>)               │ (<span style=\"color: #00d7ff; text-decoration-color: #00d7ff\">None</span>, <span style=\"color: #00af00; text-decoration-color: #00af00\">12</span>, <span style=\"color: #00af00; text-decoration-color: #00af00\">12</span>, <span style=\"color: #00af00; text-decoration-color: #00af00\">512</span>)    │     <span style=\"color: #00af00; text-decoration-color: #00af00\">1,180,160</span> │\n",
              "├─────────────────────────────────┼────────────────────────┼───────────────┤\n",
              "│ batch_normalization_5           │ (<span style=\"color: #00d7ff; text-decoration-color: #00d7ff\">None</span>, <span style=\"color: #00af00; text-decoration-color: #00af00\">12</span>, <span style=\"color: #00af00; text-decoration-color: #00af00\">12</span>, <span style=\"color: #00af00; text-decoration-color: #00af00\">512</span>)    │         <span style=\"color: #00af00; text-decoration-color: #00af00\">2,048</span> │\n",
              "│ (<span style=\"color: #0087ff; text-decoration-color: #0087ff\">BatchNormalization</span>)            │                        │               │\n",
              "├─────────────────────────────────┼────────────────────────┼───────────────┤\n",
              "│ activation_5 (<span style=\"color: #0087ff; text-decoration-color: #0087ff\">Activation</span>)       │ (<span style=\"color: #00d7ff; text-decoration-color: #00d7ff\">None</span>, <span style=\"color: #00af00; text-decoration-color: #00af00\">12</span>, <span style=\"color: #00af00; text-decoration-color: #00af00\">12</span>, <span style=\"color: #00af00; text-decoration-color: #00af00\">512</span>)    │             <span style=\"color: #00af00; text-decoration-color: #00af00\">0</span> │\n",
              "├─────────────────────────────────┼────────────────────────┼───────────────┤\n",
              "│ conv2d_6 (<span style=\"color: #0087ff; text-decoration-color: #0087ff\">Conv2D</span>)               │ (<span style=\"color: #00d7ff; text-decoration-color: #00d7ff\">None</span>, <span style=\"color: #00af00; text-decoration-color: #00af00\">12</span>, <span style=\"color: #00af00; text-decoration-color: #00af00\">12</span>, <span style=\"color: #00af00; text-decoration-color: #00af00\">512</span>)    │     <span style=\"color: #00af00; text-decoration-color: #00af00\">2,359,808</span> │\n",
              "├─────────────────────────────────┼────────────────────────┼───────────────┤\n",
              "│ batch_normalization_6           │ (<span style=\"color: #00d7ff; text-decoration-color: #00d7ff\">None</span>, <span style=\"color: #00af00; text-decoration-color: #00af00\">12</span>, <span style=\"color: #00af00; text-decoration-color: #00af00\">12</span>, <span style=\"color: #00af00; text-decoration-color: #00af00\">512</span>)    │         <span style=\"color: #00af00; text-decoration-color: #00af00\">2,048</span> │\n",
              "│ (<span style=\"color: #0087ff; text-decoration-color: #0087ff\">BatchNormalization</span>)            │                        │               │\n",
              "├─────────────────────────────────┼────────────────────────┼───────────────┤\n",
              "│ activation_6 (<span style=\"color: #0087ff; text-decoration-color: #0087ff\">Activation</span>)       │ (<span style=\"color: #00d7ff; text-decoration-color: #00d7ff\">None</span>, <span style=\"color: #00af00; text-decoration-color: #00af00\">12</span>, <span style=\"color: #00af00; text-decoration-color: #00af00\">12</span>, <span style=\"color: #00af00; text-decoration-color: #00af00\">512</span>)    │             <span style=\"color: #00af00; text-decoration-color: #00af00\">0</span> │\n",
              "├─────────────────────────────────┼────────────────────────┼───────────────┤\n",
              "│ max_pooling2d_2 (<span style=\"color: #0087ff; text-decoration-color: #0087ff\">MaxPooling2D</span>)  │ (<span style=\"color: #00d7ff; text-decoration-color: #00d7ff\">None</span>, <span style=\"color: #00af00; text-decoration-color: #00af00\">6</span>, <span style=\"color: #00af00; text-decoration-color: #00af00\">6</span>, <span style=\"color: #00af00; text-decoration-color: #00af00\">512</span>)      │             <span style=\"color: #00af00; text-decoration-color: #00af00\">0</span> │\n",
              "├─────────────────────────────────┼────────────────────────┼───────────────┤\n",
              "│ flatten (<span style=\"color: #0087ff; text-decoration-color: #0087ff\">Flatten</span>)               │ (<span style=\"color: #00d7ff; text-decoration-color: #00d7ff\">None</span>, <span style=\"color: #00af00; text-decoration-color: #00af00\">18432</span>)          │             <span style=\"color: #00af00; text-decoration-color: #00af00\">0</span> │\n",
              "├─────────────────────────────────┼────────────────────────┼───────────────┤\n",
              "│ dense (<span style=\"color: #0087ff; text-decoration-color: #0087ff\">Dense</span>)                   │ (<span style=\"color: #00d7ff; text-decoration-color: #00d7ff\">None</span>, <span style=\"color: #00af00; text-decoration-color: #00af00\">4096</span>)           │    <span style=\"color: #00af00; text-decoration-color: #00af00\">75,501,568</span> │\n",
              "├─────────────────────────────────┼────────────────────────┼───────────────┤\n",
              "│ dropout (<span style=\"color: #0087ff; text-decoration-color: #0087ff\">Dropout</span>)               │ (<span style=\"color: #00d7ff; text-decoration-color: #00d7ff\">None</span>, <span style=\"color: #00af00; text-decoration-color: #00af00\">4096</span>)           │             <span style=\"color: #00af00; text-decoration-color: #00af00\">0</span> │\n",
              "├─────────────────────────────────┼────────────────────────┼───────────────┤\n",
              "│ dense_1 (<span style=\"color: #0087ff; text-decoration-color: #0087ff\">Dense</span>)                 │ (<span style=\"color: #00d7ff; text-decoration-color: #00d7ff\">None</span>, <span style=\"color: #00af00; text-decoration-color: #00af00\">4096</span>)           │    <span style=\"color: #00af00; text-decoration-color: #00af00\">16,781,312</span> │\n",
              "├─────────────────────────────────┼────────────────────────┼───────────────┤\n",
              "│ dropout_1 (<span style=\"color: #0087ff; text-decoration-color: #0087ff\">Dropout</span>)             │ (<span style=\"color: #00d7ff; text-decoration-color: #00d7ff\">None</span>, <span style=\"color: #00af00; text-decoration-color: #00af00\">4096</span>)           │             <span style=\"color: #00af00; text-decoration-color: #00af00\">0</span> │\n",
              "├─────────────────────────────────┼────────────────────────┼───────────────┤\n",
              "│ dense_2 (<span style=\"color: #0087ff; text-decoration-color: #0087ff\">Dense</span>)                 │ (<span style=\"color: #00d7ff; text-decoration-color: #00d7ff\">None</span>, <span style=\"color: #00af00; text-decoration-color: #00af00\">7</span>)              │        <span style=\"color: #00af00; text-decoration-color: #00af00\">28,679</span> │\n",
              "└─────────────────────────────────┴────────────────────────┴───────────────┘\n",
              "</pre>\n"
            ],
            "text/plain": [
              "┏━━━━━━━━━━━━━━━━━━━━━━━━━━━━━━━━━┳━━━━━━━━━━━━━━━━━━━━━━━━┳━━━━━━━━━━━━━━━┓\n",
              "┃\u001b[1m \u001b[0m\u001b[1mLayer (type)                   \u001b[0m\u001b[1m \u001b[0m┃\u001b[1m \u001b[0m\u001b[1mOutput Shape          \u001b[0m\u001b[1m \u001b[0m┃\u001b[1m \u001b[0m\u001b[1m      Param #\u001b[0m\u001b[1m \u001b[0m┃\n",
              "┡━━━━━━━━━━━━━━━━━━━━━━━━━━━━━━━━━╇━━━━━━━━━━━━━━━━━━━━━━━━╇━━━━━━━━━━━━━━━┩\n",
              "│ conv2d (\u001b[38;5;33mConv2D\u001b[0m)                 │ (\u001b[38;5;45mNone\u001b[0m, \u001b[38;5;34m48\u001b[0m, \u001b[38;5;34m48\u001b[0m, \u001b[38;5;34m64\u001b[0m)     │           \u001b[38;5;34m640\u001b[0m │\n",
              "├─────────────────────────────────┼────────────────────────┼───────────────┤\n",
              "│ batch_normalization             │ (\u001b[38;5;45mNone\u001b[0m, \u001b[38;5;34m48\u001b[0m, \u001b[38;5;34m48\u001b[0m, \u001b[38;5;34m64\u001b[0m)     │           \u001b[38;5;34m256\u001b[0m │\n",
              "│ (\u001b[38;5;33mBatchNormalization\u001b[0m)            │                        │               │\n",
              "├─────────────────────────────────┼────────────────────────┼───────────────┤\n",
              "│ activation (\u001b[38;5;33mActivation\u001b[0m)         │ (\u001b[38;5;45mNone\u001b[0m, \u001b[38;5;34m48\u001b[0m, \u001b[38;5;34m48\u001b[0m, \u001b[38;5;34m64\u001b[0m)     │             \u001b[38;5;34m0\u001b[0m │\n",
              "├─────────────────────────────────┼────────────────────────┼───────────────┤\n",
              "│ conv2d_1 (\u001b[38;5;33mConv2D\u001b[0m)               │ (\u001b[38;5;45mNone\u001b[0m, \u001b[38;5;34m48\u001b[0m, \u001b[38;5;34m48\u001b[0m, \u001b[38;5;34m128\u001b[0m)    │        \u001b[38;5;34m73,856\u001b[0m │\n",
              "├─────────────────────────────────┼────────────────────────┼───────────────┤\n",
              "│ batch_normalization_1           │ (\u001b[38;5;45mNone\u001b[0m, \u001b[38;5;34m48\u001b[0m, \u001b[38;5;34m48\u001b[0m, \u001b[38;5;34m128\u001b[0m)    │           \u001b[38;5;34m512\u001b[0m │\n",
              "│ (\u001b[38;5;33mBatchNormalization\u001b[0m)            │                        │               │\n",
              "├─────────────────────────────────┼────────────────────────┼───────────────┤\n",
              "│ activation_1 (\u001b[38;5;33mActivation\u001b[0m)       │ (\u001b[38;5;45mNone\u001b[0m, \u001b[38;5;34m48\u001b[0m, \u001b[38;5;34m48\u001b[0m, \u001b[38;5;34m128\u001b[0m)    │             \u001b[38;5;34m0\u001b[0m │\n",
              "├─────────────────────────────────┼────────────────────────┼───────────────┤\n",
              "│ conv2d_2 (\u001b[38;5;33mConv2D\u001b[0m)               │ (\u001b[38;5;45mNone\u001b[0m, \u001b[38;5;34m48\u001b[0m, \u001b[38;5;34m48\u001b[0m, \u001b[38;5;34m128\u001b[0m)    │       \u001b[38;5;34m147,584\u001b[0m │\n",
              "├─────────────────────────────────┼────────────────────────┼───────────────┤\n",
              "│ batch_normalization_2           │ (\u001b[38;5;45mNone\u001b[0m, \u001b[38;5;34m48\u001b[0m, \u001b[38;5;34m48\u001b[0m, \u001b[38;5;34m128\u001b[0m)    │           \u001b[38;5;34m512\u001b[0m │\n",
              "│ (\u001b[38;5;33mBatchNormalization\u001b[0m)            │                        │               │\n",
              "├─────────────────────────────────┼────────────────────────┼───────────────┤\n",
              "│ activation_2 (\u001b[38;5;33mActivation\u001b[0m)       │ (\u001b[38;5;45mNone\u001b[0m, \u001b[38;5;34m48\u001b[0m, \u001b[38;5;34m48\u001b[0m, \u001b[38;5;34m128\u001b[0m)    │             \u001b[38;5;34m0\u001b[0m │\n",
              "├─────────────────────────────────┼────────────────────────┼───────────────┤\n",
              "│ max_pooling2d (\u001b[38;5;33mMaxPooling2D\u001b[0m)    │ (\u001b[38;5;45mNone\u001b[0m, \u001b[38;5;34m24\u001b[0m, \u001b[38;5;34m24\u001b[0m, \u001b[38;5;34m128\u001b[0m)    │             \u001b[38;5;34m0\u001b[0m │\n",
              "├─────────────────────────────────┼────────────────────────┼───────────────┤\n",
              "│ conv2d_3 (\u001b[38;5;33mConv2D\u001b[0m)               │ (\u001b[38;5;45mNone\u001b[0m, \u001b[38;5;34m24\u001b[0m, \u001b[38;5;34m24\u001b[0m, \u001b[38;5;34m256\u001b[0m)    │       \u001b[38;5;34m295,168\u001b[0m │\n",
              "├─────────────────────────────────┼────────────────────────┼───────────────┤\n",
              "│ batch_normalization_3           │ (\u001b[38;5;45mNone\u001b[0m, \u001b[38;5;34m24\u001b[0m, \u001b[38;5;34m24\u001b[0m, \u001b[38;5;34m256\u001b[0m)    │         \u001b[38;5;34m1,024\u001b[0m │\n",
              "│ (\u001b[38;5;33mBatchNormalization\u001b[0m)            │                        │               │\n",
              "├─────────────────────────────────┼────────────────────────┼───────────────┤\n",
              "│ activation_3 (\u001b[38;5;33mActivation\u001b[0m)       │ (\u001b[38;5;45mNone\u001b[0m, \u001b[38;5;34m24\u001b[0m, \u001b[38;5;34m24\u001b[0m, \u001b[38;5;34m256\u001b[0m)    │             \u001b[38;5;34m0\u001b[0m │\n",
              "├─────────────────────────────────┼────────────────────────┼───────────────┤\n",
              "│ conv2d_4 (\u001b[38;5;33mConv2D\u001b[0m)               │ (\u001b[38;5;45mNone\u001b[0m, \u001b[38;5;34m24\u001b[0m, \u001b[38;5;34m24\u001b[0m, \u001b[38;5;34m256\u001b[0m)    │       \u001b[38;5;34m590,080\u001b[0m │\n",
              "├─────────────────────────────────┼────────────────────────┼───────────────┤\n",
              "│ batch_normalization_4           │ (\u001b[38;5;45mNone\u001b[0m, \u001b[38;5;34m24\u001b[0m, \u001b[38;5;34m24\u001b[0m, \u001b[38;5;34m256\u001b[0m)    │         \u001b[38;5;34m1,024\u001b[0m │\n",
              "│ (\u001b[38;5;33mBatchNormalization\u001b[0m)            │                        │               │\n",
              "├─────────────────────────────────┼────────────────────────┼───────────────┤\n",
              "│ activation_4 (\u001b[38;5;33mActivation\u001b[0m)       │ (\u001b[38;5;45mNone\u001b[0m, \u001b[38;5;34m24\u001b[0m, \u001b[38;5;34m24\u001b[0m, \u001b[38;5;34m256\u001b[0m)    │             \u001b[38;5;34m0\u001b[0m │\n",
              "├─────────────────────────────────┼────────────────────────┼───────────────┤\n",
              "│ max_pooling2d_1 (\u001b[38;5;33mMaxPooling2D\u001b[0m)  │ (\u001b[38;5;45mNone\u001b[0m, \u001b[38;5;34m12\u001b[0m, \u001b[38;5;34m12\u001b[0m, \u001b[38;5;34m256\u001b[0m)    │             \u001b[38;5;34m0\u001b[0m │\n",
              "├─────────────────────────────────┼────────────────────────┼───────────────┤\n",
              "│ conv2d_5 (\u001b[38;5;33mConv2D\u001b[0m)               │ (\u001b[38;5;45mNone\u001b[0m, \u001b[38;5;34m12\u001b[0m, \u001b[38;5;34m12\u001b[0m, \u001b[38;5;34m512\u001b[0m)    │     \u001b[38;5;34m1,180,160\u001b[0m │\n",
              "├─────────────────────────────────┼────────────────────────┼───────────────┤\n",
              "│ batch_normalization_5           │ (\u001b[38;5;45mNone\u001b[0m, \u001b[38;5;34m12\u001b[0m, \u001b[38;5;34m12\u001b[0m, \u001b[38;5;34m512\u001b[0m)    │         \u001b[38;5;34m2,048\u001b[0m │\n",
              "│ (\u001b[38;5;33mBatchNormalization\u001b[0m)            │                        │               │\n",
              "├─────────────────────────────────┼────────────────────────┼───────────────┤\n",
              "│ activation_5 (\u001b[38;5;33mActivation\u001b[0m)       │ (\u001b[38;5;45mNone\u001b[0m, \u001b[38;5;34m12\u001b[0m, \u001b[38;5;34m12\u001b[0m, \u001b[38;5;34m512\u001b[0m)    │             \u001b[38;5;34m0\u001b[0m │\n",
              "├─────────────────────────────────┼────────────────────────┼───────────────┤\n",
              "│ conv2d_6 (\u001b[38;5;33mConv2D\u001b[0m)               │ (\u001b[38;5;45mNone\u001b[0m, \u001b[38;5;34m12\u001b[0m, \u001b[38;5;34m12\u001b[0m, \u001b[38;5;34m512\u001b[0m)    │     \u001b[38;5;34m2,359,808\u001b[0m │\n",
              "├─────────────────────────────────┼────────────────────────┼───────────────┤\n",
              "│ batch_normalization_6           │ (\u001b[38;5;45mNone\u001b[0m, \u001b[38;5;34m12\u001b[0m, \u001b[38;5;34m12\u001b[0m, \u001b[38;5;34m512\u001b[0m)    │         \u001b[38;5;34m2,048\u001b[0m │\n",
              "│ (\u001b[38;5;33mBatchNormalization\u001b[0m)            │                        │               │\n",
              "├─────────────────────────────────┼────────────────────────┼───────────────┤\n",
              "│ activation_6 (\u001b[38;5;33mActivation\u001b[0m)       │ (\u001b[38;5;45mNone\u001b[0m, \u001b[38;5;34m12\u001b[0m, \u001b[38;5;34m12\u001b[0m, \u001b[38;5;34m512\u001b[0m)    │             \u001b[38;5;34m0\u001b[0m │\n",
              "├─────────────────────────────────┼────────────────────────┼───────────────┤\n",
              "│ max_pooling2d_2 (\u001b[38;5;33mMaxPooling2D\u001b[0m)  │ (\u001b[38;5;45mNone\u001b[0m, \u001b[38;5;34m6\u001b[0m, \u001b[38;5;34m6\u001b[0m, \u001b[38;5;34m512\u001b[0m)      │             \u001b[38;5;34m0\u001b[0m │\n",
              "├─────────────────────────────────┼────────────────────────┼───────────────┤\n",
              "│ flatten (\u001b[38;5;33mFlatten\u001b[0m)               │ (\u001b[38;5;45mNone\u001b[0m, \u001b[38;5;34m18432\u001b[0m)          │             \u001b[38;5;34m0\u001b[0m │\n",
              "├─────────────────────────────────┼────────────────────────┼───────────────┤\n",
              "│ dense (\u001b[38;5;33mDense\u001b[0m)                   │ (\u001b[38;5;45mNone\u001b[0m, \u001b[38;5;34m4096\u001b[0m)           │    \u001b[38;5;34m75,501,568\u001b[0m │\n",
              "├─────────────────────────────────┼────────────────────────┼───────────────┤\n",
              "│ dropout (\u001b[38;5;33mDropout\u001b[0m)               │ (\u001b[38;5;45mNone\u001b[0m, \u001b[38;5;34m4096\u001b[0m)           │             \u001b[38;5;34m0\u001b[0m │\n",
              "├─────────────────────────────────┼────────────────────────┼───────────────┤\n",
              "│ dense_1 (\u001b[38;5;33mDense\u001b[0m)                 │ (\u001b[38;5;45mNone\u001b[0m, \u001b[38;5;34m4096\u001b[0m)           │    \u001b[38;5;34m16,781,312\u001b[0m │\n",
              "├─────────────────────────────────┼────────────────────────┼───────────────┤\n",
              "│ dropout_1 (\u001b[38;5;33mDropout\u001b[0m)             │ (\u001b[38;5;45mNone\u001b[0m, \u001b[38;5;34m4096\u001b[0m)           │             \u001b[38;5;34m0\u001b[0m │\n",
              "├─────────────────────────────────┼────────────────────────┼───────────────┤\n",
              "│ dense_2 (\u001b[38;5;33mDense\u001b[0m)                 │ (\u001b[38;5;45mNone\u001b[0m, \u001b[38;5;34m7\u001b[0m)              │        \u001b[38;5;34m28,679\u001b[0m │\n",
              "└─────────────────────────────────┴────────────────────────┴───────────────┘\n"
            ]
          },
          "metadata": {},
          "output_type": "display_data"
        },
        {
          "data": {
            "text/html": [
              "<pre style=\"white-space:pre;overflow-x:auto;line-height:normal;font-family:Menlo,'DejaVu Sans Mono',consolas,'Courier New',monospace\"><span style=\"font-weight: bold\"> Total params: </span><span style=\"color: #00af00; text-decoration-color: #00af00\">96,966,279</span> (369.90 MB)\n",
              "</pre>\n"
            ],
            "text/plain": [
              "\u001b[1m Total params: \u001b[0m\u001b[38;5;34m96,966,279\u001b[0m (369.90 MB)\n"
            ]
          },
          "metadata": {},
          "output_type": "display_data"
        },
        {
          "data": {
            "text/html": [
              "<pre style=\"white-space:pre;overflow-x:auto;line-height:normal;font-family:Menlo,'DejaVu Sans Mono',consolas,'Courier New',monospace\"><span style=\"font-weight: bold\"> Trainable params: </span><span style=\"color: #00af00; text-decoration-color: #00af00\">96,962,567</span> (369.88 MB)\n",
              "</pre>\n"
            ],
            "text/plain": [
              "\u001b[1m Trainable params: \u001b[0m\u001b[38;5;34m96,962,567\u001b[0m (369.88 MB)\n"
            ]
          },
          "metadata": {},
          "output_type": "display_data"
        },
        {
          "data": {
            "text/html": [
              "<pre style=\"white-space:pre;overflow-x:auto;line-height:normal;font-family:Menlo,'DejaVu Sans Mono',consolas,'Courier New',monospace\"><span style=\"font-weight: bold\"> Non-trainable params: </span><span style=\"color: #00af00; text-decoration-color: #00af00\">3,712</span> (14.50 KB)\n",
              "</pre>\n"
            ],
            "text/plain": [
              "\u001b[1m Non-trainable params: \u001b[0m\u001b[38;5;34m3,712\u001b[0m (14.50 KB)\n"
            ]
          },
          "metadata": {},
          "output_type": "display_data"
        }
      ],
      "source": [
        "model = Sequential()\n",
        "\n",
        "model.add(Conv2D(64, kernel_size=(3, 3), data_format=\"channels_last\", padding=\"same\", input_shape=(48, 48, 1)))\n",
        "model.add(BatchNormalization())\n",
        "model.add(Activation(\"relu\"))\n",
        "\n",
        "model.add(Conv2D(128, kernel_size=(3, 3), padding=\"same\"))\n",
        "model.add(BatchNormalization())\n",
        "model.add(Activation(\"relu\"))\n",
        "\n",
        "model.add(Conv2D(128, kernel_size=(3, 3), padding=\"same\"))\n",
        "model.add(BatchNormalization())\n",
        "model.add(Activation(\"relu\"))\n",
        "model.add(MaxPooling2D(pool_size=(2, 2)))\n",
        "\n",
        "model.add(Conv2D(256, kernel_size=(3, 3), padding=\"same\"))\n",
        "model.add(BatchNormalization())\n",
        "model.add(Activation(\"relu\"))\n",
        "\n",
        "model.add(Conv2D(256, kernel_size=(3, 3), padding=\"same\"))\n",
        "model.add(BatchNormalization())\n",
        "model.add(Activation(\"relu\"))\n",
        "model.add(MaxPooling2D(pool_size=(2, 2)))\n",
        "\n",
        "model.add(Conv2D(512, kernel_size=(3, 3), padding=\"same\"))\n",
        "model.add(BatchNormalization())\n",
        "model.add(Activation(\"relu\"))\n",
        "\n",
        "model.add(Conv2D(512, kernel_size=(3, 3), padding=\"same\"))\n",
        "model.add(BatchNormalization())\n",
        "model.add(Activation(\"relu\"))\n",
        "model.add(MaxPooling2D(pool_size=(2, 2)))\n",
        "\n",
        "model.add(Flatten())\n",
        "model.add(Dense(4096, activation=\"relu\", kernel_regularizer=l2()))\n",
        "model.add(Dropout(0.1))  # 這裡的 rate_drop 你可以用變數或直接填數值\n",
        "model.add(Dense(4096, activation=\"relu\", kernel_regularizer=l2()))\n",
        "model.add(Dropout(0.1))\n",
        "model.add(Dense(num_classes, activation=\"softmax\", kernel_regularizer=l2))\n",
        "model.compile(loss=\"categorical_crossentropy\",optimizer=SGD(momentum=0.9,nesterov=True,learning_rate=1e-4),metrics=[\"accuracy\"])\n",
        "model.summary()"
      ]
    },
    {
      "cell_type": "code",
      "execution_count": null,
      "metadata": {
        "id": "RKAkIMiLPlkK"
      },
      "outputs": [],
      "source": [
        "data_generator=ImageDataGenerator(\n",
        "    featurewise_std_normalization=False,\n",
        "    horizontal_flip=True,\n",
        "    rotation_range=10,\n",
        "    width_shift_range=0.2,\n",
        "    height_shift_range=0.2,\n",
        "    zoom_range=0.2)"
      ]
    },
    {
      "cell_type": "code",
      "execution_count": null,
      "metadata": {
        "colab": {
          "background_save": true,
          "base_uri": "https://localhost:8080/"
        },
        "id": "7gq6zsqUQW4x",
        "outputId": "96aa8117-ac66-4a1b-b11c-1be4249dde80"
      },
      "outputs": [
        {
          "name": "stdout",
          "output_type": "stream",
          "text": [
            "Epoch 1/100\n"
          ]
        },
        {
          "name": "stderr",
          "output_type": "stream",
          "text": [
            "/usr/local/lib/python3.11/dist-packages/keras/src/trainers/data_adapters/py_dataset_adapter.py:121: UserWarning: Your `PyDataset` class should call `super().__init__(**kwargs)` in its constructor. `**kwargs` can include `workers`, `use_multiprocessing`, `max_queue_size`. Do not pass these arguments to `fit()`, as they will be ignored.\n",
            "  self._warn_if_super_not_called()\n"
          ]
        },
        {
          "name": "stdout",
          "output_type": "stream",
          "text": [
            "575/575 - 94s - 164ms/step - accuracy: 0.2473 - loss: 108.7771 - val_accuracy: 0.2859 - val_loss: 107.4324 - learning_rate: 1.0000e-04\n",
            "Epoch 2/100\n",
            "575/575 - 115s - 201ms/step - accuracy: 0.2842 - loss: 106.2462 - val_accuracy: 0.3149 - val_loss: 105.0012 - learning_rate: 1.0000e-04\n",
            "Epoch 3/100\n",
            "575/575 - 67s - 116ms/step - accuracy: 0.3059 - loss: 103.8255 - val_accuracy: 0.3583 - val_loss: 102.5721 - learning_rate: 1.0000e-04\n",
            "Epoch 4/100\n",
            "575/575 - 67s - 116ms/step - accuracy: 0.3250 - loss: 101.4659 - val_accuracy: 0.3795 - val_loss: 100.2229 - learning_rate: 1.0000e-04\n",
            "Epoch 5/100\n",
            "575/575 - 65s - 113ms/step - accuracy: 0.3440 - loss: 99.1703 - val_accuracy: 0.3605 - val_loss: 98.0117 - learning_rate: 1.0000e-04\n",
            "Epoch 6/100\n",
            "575/575 - 67s - 117ms/step - accuracy: 0.3517 - loss: 96.9268 - val_accuracy: 0.3775 - val_loss: 95.7973 - learning_rate: 1.0000e-04\n",
            "Epoch 7/100\n",
            "575/575 - 67s - 117ms/step - accuracy: 0.3686 - loss: 94.7327 - val_accuracy: 0.4032 - val_loss: 93.5669 - learning_rate: 1.0000e-04\n",
            "Epoch 8/100\n",
            "575/575 - 65s - 113ms/step - accuracy: 0.3744 - loss: 92.5981 - val_accuracy: 0.4188 - val_loss: 91.4651 - learning_rate: 1.0000e-04\n",
            "Epoch 9/100\n",
            "575/575 - 65s - 113ms/step - accuracy: 0.3872 - loss: 90.5106 - val_accuracy: 0.3881 - val_loss: 89.4759 - learning_rate: 1.0000e-04\n",
            "Epoch 10/100\n",
            "575/575 - 67s - 117ms/step - accuracy: 0.3981 - loss: 88.4715 - val_accuracy: 0.4310 - val_loss: 87.4109 - learning_rate: 1.0000e-04\n",
            "Epoch 11/100\n",
            "575/575 - 65s - 113ms/step - accuracy: 0.4008 - loss: 86.4814 - val_accuracy: 0.4419 - val_loss: 85.4122 - learning_rate: 1.0000e-04\n",
            "Epoch 12/100\n",
            "575/575 - 65s - 113ms/step - accuracy: 0.4134 - loss: 84.5245 - val_accuracy: 0.4556 - val_loss: 83.4863 - learning_rate: 1.0000e-04\n",
            "Epoch 13/100\n",
            "575/575 - 65s - 113ms/step - accuracy: 0.4215 - loss: 82.6198 - val_accuracy: 0.4689 - val_loss: 81.5910 - learning_rate: 1.0000e-04\n",
            "Epoch 14/100\n",
            "575/575 - 65s - 113ms/step - accuracy: 0.4316 - loss: 80.7604 - val_accuracy: 0.4271 - val_loss: 79.9008 - learning_rate: 1.0000e-04\n",
            "Epoch 15/100\n",
            "575/575 - 67s - 116ms/step - accuracy: 0.4354 - loss: 78.9398 - val_accuracy: 0.4628 - val_loss: 77.9923 - learning_rate: 1.0000e-04\n",
            "Epoch 16/100\n",
            "575/575 - 65s - 112ms/step - accuracy: 0.4462 - loss: 77.1644 - val_accuracy: 0.4575 - val_loss: 76.2852 - learning_rate: 1.0000e-04\n",
            "Epoch 17/100\n",
            "575/575 - 67s - 116ms/step - accuracy: 0.4517 - loss: 75.4295 - val_accuracy: 0.4572 - val_loss: 74.5518 - learning_rate: 1.0000e-04\n",
            "Epoch 18/100\n",
            "575/575 - 65s - 112ms/step - accuracy: 0.4550 - loss: 73.7378 - val_accuracy: 0.4974 - val_loss: 72.8116 - learning_rate: 1.0000e-04\n",
            "Epoch 19/100\n",
            "575/575 - 67s - 116ms/step - accuracy: 0.4648 - loss: 72.0789 - val_accuracy: 0.4870 - val_loss: 71.1864 - learning_rate: 1.0000e-04\n",
            "Epoch 20/100\n",
            "575/575 - 67s - 117ms/step - accuracy: 0.4672 - loss: 70.4617 - val_accuracy: 0.4921 - val_loss: 69.6121 - learning_rate: 1.0000e-04\n",
            "Epoch 21/100\n",
            "575/575 - 80s - 139ms/step - accuracy: 0.4768 - loss: 68.8750 - val_accuracy: 0.4946 - val_loss: 68.0492 - learning_rate: 1.0000e-04\n",
            "Epoch 22/100\n",
            "575/575 - 65s - 112ms/step - accuracy: 0.4761 - loss: 67.3370 - val_accuracy: 0.5063 - val_loss: 66.5057 - learning_rate: 1.0000e-04\n",
            "Epoch 23/100\n",
            "575/575 - 65s - 113ms/step - accuracy: 0.4869 - loss: 65.8240 - val_accuracy: 0.4831 - val_loss: 65.0973 - learning_rate: 1.0000e-04\n",
            "Epoch 24/100\n",
            "575/575 - 85s - 147ms/step - accuracy: 0.4855 - loss: 64.3506 - val_accuracy: 0.5049 - val_loss: 63.5753 - learning_rate: 1.0000e-04\n",
            "Epoch 25/100\n",
            "575/575 - 65s - 113ms/step - accuracy: 0.4905 - loss: 62.9098 - val_accuracy: 0.5227 - val_loss: 62.1122 - learning_rate: 1.0000e-04\n",
            "Epoch 26/100\n",
            "575/575 - 65s - 113ms/step - accuracy: 0.4919 - loss: 61.5013 - val_accuracy: 0.5135 - val_loss: 60.7617 - learning_rate: 1.0000e-04\n",
            "Epoch 27/100\n",
            "575/575 - 67s - 117ms/step - accuracy: 0.4987 - loss: 60.1204 - val_accuracy: 0.5280 - val_loss: 59.3767 - learning_rate: 1.0000e-04\n",
            "Epoch 28/100\n",
            "575/575 - 65s - 113ms/step - accuracy: 0.5025 - loss: 58.7784 - val_accuracy: 0.4553 - val_loss: 58.2555 - learning_rate: 1.0000e-04\n",
            "Epoch 29/100\n",
            "575/575 - 65s - 112ms/step - accuracy: 0.5066 - loss: 57.4622 - val_accuracy: 0.5263 - val_loss: 56.7669 - learning_rate: 1.0000e-04\n",
            "Epoch 30/100\n",
            "575/575 - 67s - 117ms/step - accuracy: 0.5069 - loss: 56.1814 - val_accuracy: 0.4932 - val_loss: 55.5894 - learning_rate: 1.0000e-04\n",
            "Epoch 31/100\n",
            "575/575 - 67s - 117ms/step - accuracy: 0.5155 - loss: 54.9246 - val_accuracy: 0.5313 - val_loss: 54.2554 - learning_rate: 1.0000e-04\n",
            "Epoch 32/100\n",
            "575/575 - 67s - 117ms/step - accuracy: 0.5126 - loss: 53.6988 - val_accuracy: 0.5118 - val_loss: 53.1023 - learning_rate: 1.0000e-04\n",
            "Epoch 33/100\n",
            "575/575 - 65s - 113ms/step - accuracy: 0.5208 - loss: 52.5023 - val_accuracy: 0.5322 - val_loss: 51.8664 - learning_rate: 1.0000e-04\n",
            "Epoch 34/100\n",
            "575/575 - 65s - 113ms/step - accuracy: 0.5218 - loss: 51.3362 - val_accuracy: 0.5366 - val_loss: 50.7067 - learning_rate: 1.0000e-04\n",
            "Epoch 35/100\n",
            "575/575 - 67s - 117ms/step - accuracy: 0.5275 - loss: 50.1847 - val_accuracy: 0.5093 - val_loss: 49.6419 - learning_rate: 1.0000e-04\n",
            "Epoch 36/100\n",
            "575/575 - 67s - 117ms/step - accuracy: 0.5269 - loss: 49.0692 - val_accuracy: 0.5341 - val_loss: 48.4910 - learning_rate: 1.0000e-04\n",
            "Epoch 37/100\n",
            "575/575 - 67s - 117ms/step - accuracy: 0.5297 - loss: 47.9831 - val_accuracy: 0.5422 - val_loss: 47.4092 - learning_rate: 1.0000e-04\n",
            "Epoch 38/100\n",
            "575/575 - 65s - 113ms/step - accuracy: 0.5335 - loss: 46.9097 - val_accuracy: 0.5261 - val_loss: 46.3871 - learning_rate: 1.0000e-04\n",
            "Epoch 39/100\n",
            "575/575 - 65s - 113ms/step - accuracy: 0.5332 - loss: 45.8666 - val_accuracy: 0.5255 - val_loss: 45.3903 - learning_rate: 1.0000e-04\n",
            "Epoch 40/100\n",
            "575/575 - 67s - 116ms/step - accuracy: 0.5358 - loss: 44.8509 - val_accuracy: 0.5347 - val_loss: 44.3479 - learning_rate: 1.0000e-04\n",
            "Epoch 41/100\n",
            "575/575 - 67s - 116ms/step - accuracy: 0.5392 - loss: 43.8562 - val_accuracy: 0.5269 - val_loss: 43.3930 - learning_rate: 1.0000e-04\n",
            "Epoch 42/100\n",
            "\n",
            "Epoch 42: ReduceLROnPlateau reducing learning rate to 7.499999810534064e-05.\n",
            "575/575 - 65s - 113ms/step - accuracy: 0.5428 - loss: 42.8805 - val_accuracy: 0.5386 - val_loss: 42.4239 - learning_rate: 1.0000e-04\n",
            "Epoch 43/100\n",
            "575/575 - 65s - 112ms/step - accuracy: 0.5432 - loss: 42.0376 - val_accuracy: 0.5497 - val_loss: 41.6545 - learning_rate: 7.5000e-05\n",
            "Epoch 44/100\n",
            "575/575 - 82s - 143ms/step - accuracy: 0.5476 - loss: 41.3340 - val_accuracy: 0.5419 - val_loss: 40.9655 - learning_rate: 7.5000e-05\n",
            "Epoch 45/100\n",
            "575/575 - 67s - 116ms/step - accuracy: 0.5489 - loss: 40.6457 - val_accuracy: 0.5542 - val_loss: 40.2824 - learning_rate: 7.5000e-05\n",
            "Epoch 46/100\n",
            "575/575 - 65s - 112ms/step - accuracy: 0.5525 - loss: 39.9636 - val_accuracy: 0.5553 - val_loss: 39.5996 - learning_rate: 7.5000e-05\n",
            "Epoch 47/100\n",
            "575/575 - 67s - 116ms/step - accuracy: 0.5530 - loss: 39.3044 - val_accuracy: 0.5422 - val_loss: 38.9764 - learning_rate: 7.5000e-05\n",
            "Epoch 48/100\n",
            "575/575 - 67s - 116ms/step - accuracy: 0.5503 - loss: 38.6480 - val_accuracy: 0.5517 - val_loss: 38.3142 - learning_rate: 7.5000e-05\n",
            "Epoch 49/100\n",
            "575/575 - 65s - 112ms/step - accuracy: 0.5560 - loss: 38.0050 - val_accuracy: 0.5472 - val_loss: 37.6984 - learning_rate: 7.5000e-05\n",
            "Epoch 50/100\n",
            "575/575 - 64s - 112ms/step - accuracy: 0.5550 - loss: 37.3736 - val_accuracy: 0.5684 - val_loss: 37.0371 - learning_rate: 7.5000e-05\n",
            "Epoch 51/100\n",
            "575/575 - 65s - 112ms/step - accuracy: 0.5571 - loss: 36.7500 - val_accuracy: 0.5548 - val_loss: 36.4350 - learning_rate: 7.5000e-05\n",
            "Epoch 52/100\n",
            "575/575 - 64s - 112ms/step - accuracy: 0.5568 - loss: 36.1418 - val_accuracy: 0.5706 - val_loss: 35.8213 - learning_rate: 7.5000e-05\n",
            "Epoch 53/100\n",
            "575/575 - 64s - 112ms/step - accuracy: 0.5598 - loss: 35.5438 - val_accuracy: 0.5715 - val_loss: 35.2164 - learning_rate: 7.5000e-05\n",
            "Epoch 54/100\n",
            "575/575 - 67s - 116ms/step - accuracy: 0.5642 - loss: 34.9457 - val_accuracy: 0.5681 - val_loss: 34.6300 - learning_rate: 7.5000e-05\n",
            "Epoch 55/100\n",
            "575/575 - 65s - 112ms/step - accuracy: 0.5641 - loss: 34.3681 - val_accuracy: 0.5614 - val_loss: 34.0742 - learning_rate: 7.5000e-05\n",
            "Epoch 56/100\n",
            "575/575 - 64s - 112ms/step - accuracy: 0.5678 - loss: 33.7975 - val_accuracy: 0.5684 - val_loss: 33.5019 - learning_rate: 7.5000e-05\n",
            "Epoch 57/100\n",
            "575/575 - 67s - 116ms/step - accuracy: 0.5655 - loss: 33.2414 - val_accuracy: 0.5684 - val_loss: 32.9500 - learning_rate: 7.5000e-05\n",
            "Epoch 58/100\n",
            "\n",
            "Epoch 58: ReduceLROnPlateau reducing learning rate to 5.6249997214763425e-05.\n",
            "575/575 - 65s - 112ms/step - accuracy: 0.5657 - loss: 32.6885 - val_accuracy: 0.5478 - val_loss: 32.4583 - learning_rate: 7.5000e-05\n",
            "Epoch 59/100\n",
            "575/575 - 64s - 112ms/step - accuracy: 0.5690 - loss: 32.2132 - val_accuracy: 0.5745 - val_loss: 31.9972 - learning_rate: 5.6250e-05\n",
            "Epoch 60/100\n",
            "575/575 - 67s - 116ms/step - accuracy: 0.5730 - loss: 31.8061 - val_accuracy: 0.5704 - val_loss: 31.6006 - learning_rate: 5.6250e-05\n",
            "Epoch 61/100\n",
            "575/575 - 65s - 112ms/step - accuracy: 0.5725 - loss: 31.4134 - val_accuracy: 0.5639 - val_loss: 31.2218 - learning_rate: 5.6250e-05\n",
            "Epoch 62/100\n",
            "575/575 - 64s - 112ms/step - accuracy: 0.5735 - loss: 31.0186 - val_accuracy: 0.5712 - val_loss: 30.8249 - learning_rate: 5.6250e-05\n",
            "Epoch 63/100\n",
            "575/575 - 67s - 116ms/step - accuracy: 0.5717 - loss: 30.6326 - val_accuracy: 0.5768 - val_loss: 30.4464 - learning_rate: 5.6250e-05\n",
            "Epoch 64/100\n",
            "575/575 - 65s - 112ms/step - accuracy: 0.5763 - loss: 30.2552 - val_accuracy: 0.5821 - val_loss: 30.0509 - learning_rate: 5.6250e-05\n",
            "Epoch 65/100\n",
            "575/575 - 67s - 116ms/step - accuracy: 0.5767 - loss: 29.8851 - val_accuracy: 0.5662 - val_loss: 29.7120 - learning_rate: 5.6250e-05\n",
            "Epoch 66/100\n",
            "575/575 - 65s - 112ms/step - accuracy: 0.5802 - loss: 29.5039 - val_accuracy: 0.5729 - val_loss: 29.3302 - learning_rate: 5.6250e-05\n",
            "Epoch 67/100\n",
            "575/575 - 64s - 112ms/step - accuracy: 0.5792 - loss: 29.1437 - val_accuracy: 0.5857 - val_loss: 28.9629 - learning_rate: 5.6250e-05\n",
            "Epoch 68/100\n",
            "575/575 - 64s - 112ms/step - accuracy: 0.5794 - loss: 28.7846 - val_accuracy: 0.5768 - val_loss: 28.6043 - learning_rate: 5.6250e-05\n",
            "Epoch 69/100\n",
            "575/575 - 82s - 143ms/step - accuracy: 0.5825 - loss: 28.4193 - val_accuracy: 0.5723 - val_loss: 28.2729 - learning_rate: 5.6250e-05\n",
            "Epoch 70/100\n",
            "575/575 - 67s - 116ms/step - accuracy: 0.5835 - loss: 28.0742 - val_accuracy: 0.5453 - val_loss: 28.0145 - learning_rate: 5.6250e-05\n",
            "Epoch 71/100\n",
            "575/575 - 80s - 139ms/step - accuracy: 0.5797 - loss: 27.7266 - val_accuracy: 0.5773 - val_loss: 27.5668 - learning_rate: 5.6250e-05\n",
            "Epoch 72/100\n",
            "\n",
            "Epoch 72: ReduceLROnPlateau reducing learning rate to 4.218749927531462e-05.\n",
            "575/575 - 64s - 112ms/step - accuracy: 0.5828 - loss: 27.3828 - val_accuracy: 0.5556 - val_loss: 27.2791 - learning_rate: 5.6250e-05\n",
            "Epoch 73/100\n",
            "575/575 - 65s - 112ms/step - accuracy: 0.5822 - loss: 27.0850 - val_accuracy: 0.5779 - val_loss: 26.9696 - learning_rate: 4.2188e-05\n",
            "Epoch 74/100\n",
            "575/575 - 67s - 116ms/step - accuracy: 0.5880 - loss: 26.8279 - val_accuracy: 0.5801 - val_loss: 26.7250 - learning_rate: 4.2188e-05\n",
            "Epoch 75/100\n",
            "575/575 - 67s - 116ms/step - accuracy: 0.5840 - loss: 26.5821 - val_accuracy: 0.5731 - val_loss: 26.4874 - learning_rate: 4.2188e-05\n",
            "Epoch 76/100\n",
            "575/575 - 80s - 139ms/step - accuracy: 0.5813 - loss: 26.3372 - val_accuracy: 0.5918 - val_loss: 26.2082 - learning_rate: 4.2188e-05\n",
            "Epoch 77/100\n",
            "575/575 - 67s - 116ms/step - accuracy: 0.5868 - loss: 26.0893 - val_accuracy: 0.5790 - val_loss: 25.9774 - learning_rate: 4.2188e-05\n",
            "Epoch 78/100\n",
            "575/575 - 65s - 112ms/step - accuracy: 0.5882 - loss: 25.8463 - val_accuracy: 0.5829 - val_loss: 25.7406 - learning_rate: 4.2188e-05\n",
            "Epoch 79/100\n",
            "575/575 - 67s - 116ms/step - accuracy: 0.5871 - loss: 25.6064 - val_accuracy: 0.5968 - val_loss: 25.4762 - learning_rate: 4.2188e-05\n",
            "Epoch 80/100\n",
            "575/575 - 65s - 112ms/step - accuracy: 0.5890 - loss: 25.3716 - val_accuracy: 0.5993 - val_loss: 25.2366 - learning_rate: 4.2188e-05\n",
            "Epoch 81/100\n",
            "575/575 - 67s - 116ms/step - accuracy: 0.5911 - loss: 25.1340 - val_accuracy: 0.5918 - val_loss: 25.0395 - learning_rate: 4.2188e-05\n",
            "Epoch 82/100\n",
            "575/575 - 65s - 112ms/step - accuracy: 0.5892 - loss: 24.9052 - val_accuracy: 0.5826 - val_loss: 24.8108 - learning_rate: 4.2188e-05\n",
            "Epoch 83/100\n",
            "575/575 - 64s - 112ms/step - accuracy: 0.5909 - loss: 24.6679 - val_accuracy: 0.5907 - val_loss: 24.5640 - learning_rate: 4.2188e-05\n",
            "Epoch 84/100\n",
            "575/575 - 67s - 116ms/step - accuracy: 0.5906 - loss: 24.4439 - val_accuracy: 0.5915 - val_loss: 24.3272 - learning_rate: 4.2188e-05\n",
            "Epoch 85/100\n",
            "\n",
            "Epoch 85: ReduceLROnPlateau reducing learning rate to 3.164062582072802e-05.\n",
            "575/575 - 67s - 116ms/step - accuracy: 0.5918 - loss: 24.2170 - val_accuracy: 0.5868 - val_loss: 24.1212 - learning_rate: 4.2188e-05\n",
            "Epoch 86/100\n",
            "575/575 - 67s - 116ms/step - accuracy: 0.5936 - loss: 24.0184 - val_accuracy: 0.5779 - val_loss: 23.9769 - learning_rate: 3.1641e-05\n",
            "Epoch 87/100\n",
            "575/575 - 82s - 143ms/step - accuracy: 0.5918 - loss: 23.8497 - val_accuracy: 0.5729 - val_loss: 23.8213 - learning_rate: 3.1641e-05\n",
            "Epoch 88/100\n",
            "575/575 - 67s - 116ms/step - accuracy: 0.5964 - loss: 23.6803 - val_accuracy: 0.5913 - val_loss: 23.6231 - learning_rate: 3.1641e-05\n",
            "Epoch 89/100\n",
            "575/575 - 65s - 112ms/step - accuracy: 0.5949 - loss: 23.5203 - val_accuracy: 0.5926 - val_loss: 23.4404 - learning_rate: 3.1641e-05\n",
            "Epoch 90/100\n",
            "\n",
            "Epoch 90: ReduceLROnPlateau reducing learning rate to 2.3730469365546014e-05.\n",
            "575/575 - 85s - 147ms/step - accuracy: 0.5982 - loss: 23.3532 - val_accuracy: 0.5935 - val_loss: 23.2935 - learning_rate: 3.1641e-05\n",
            "Epoch 91/100\n",
            "575/575 - 65s - 112ms/step - accuracy: 0.5998 - loss: 23.2064 - val_accuracy: 0.5904 - val_loss: 23.1766 - learning_rate: 2.3730e-05\n",
            "Epoch 92/100\n",
            "575/575 - 65s - 112ms/step - accuracy: 0.5939 - loss: 23.0924 - val_accuracy: 0.5924 - val_loss: 23.0602 - learning_rate: 2.3730e-05\n",
            "Epoch 93/100\n",
            "575/575 - 65s - 112ms/step - accuracy: 0.5981 - loss: 22.9716 - val_accuracy: 0.5996 - val_loss: 22.9204 - learning_rate: 2.3730e-05\n",
            "Epoch 94/100\n",
            "575/575 - 67s - 116ms/step - accuracy: 0.5992 - loss: 22.8489 - val_accuracy: 0.5893 - val_loss: 22.8116 - learning_rate: 2.3730e-05\n",
            "Epoch 95/100\n",
            "575/575 - 80s - 139ms/step - accuracy: 0.6000 - loss: 22.7274 - val_accuracy: 0.6016 - val_loss: 22.6721 - learning_rate: 2.3730e-05\n",
            "Epoch 96/100\n",
            "575/575 - 64s - 112ms/step - accuracy: 0.5964 - loss: 22.6145 - val_accuracy: 0.5893 - val_loss: 22.5897 - learning_rate: 2.3730e-05\n",
            "Epoch 97/100\n",
            "575/575 - 67s - 116ms/step - accuracy: 0.5987 - loss: 22.4974 - val_accuracy: 0.6010 - val_loss: 22.4428 - learning_rate: 2.3730e-05\n",
            "Epoch 98/100\n",
            "575/575 - 65s - 112ms/step - accuracy: 0.6012 - loss: 22.3810 - val_accuracy: 0.5871 - val_loss: 22.3595 - learning_rate: 2.3730e-05\n",
            "Epoch 99/100\n",
            "575/575 - 64s - 112ms/step - accuracy: 0.5998 - loss: 22.2606 - val_accuracy: 0.6013 - val_loss: 22.2046 - learning_rate: 2.3730e-05\n",
            "Epoch 100/100\n",
            "\n",
            "Epoch 100: ReduceLROnPlateau reducing learning rate to 1.7797852706280537e-05.\n",
            "575/575 - 67s - 116ms/step - accuracy: 0.6014 - loss: 22.1459 - val_accuracy: 0.6002 - val_loss: 22.1019 - learning_rate: 2.3730e-05\n"
          ]
        }
      ],
      "source": [
        "es = EarlyStopping(monitor='val_loss', patience=10, mode='min', restore_best_weights=True)\n",
        "\n",
        "reduce_lr = ReduceLROnPlateau(monitor='val_accuracy', factor=0.75, patience=5, verbose=1)\n",
        "\n",
        "history = model.fit(data_generator.flow(train_data_x, train_data_y, batch_size),\n",
        "    # steps_per_epoch=len(train_X) / batch_size,\n",
        "    batch_size=batch_size,\n",
        "    epochs=num_epochs,\n",
        "    verbose=2,\n",
        "    callbacks=[es, reduce_lr],\n",
        "    validation_data=(valid_data_x,valid_data_y))\n"
      ]
    },
    {
      "cell_type": "code",
      "execution_count": null,
      "metadata": {
        "colab": {
          "base_uri": "https://localhost:8080/"
        },
        "id": "yzcUzyWW33JA",
        "outputId": "b387ed95-dbaf-436e-c4f8-50d41150fb4c"
      },
      "outputs": [
        {
          "name": "stderr",
          "output_type": "stream",
          "text": [
            "WARNING:absl:You are saving your model as an HDF5 file via `model.save()` or `keras.saving.save_model(model)`. This file format is considered legacy. We recommend using instead the native Keras format, e.g. `model.save('my_model.keras')` or `keras.saving.save_model(model, 'my_model.keras')`. \n"
          ]
        }
      ],
      "source": [
        "model.save(\"/content/drive/MyDrive/DL/my_model.h5\")  # 儲存成 HDF5 格式\n",
        "model.save(\"/content/drive/MyDrive/DL/my_model.keras\")  # 儲存為官方推薦的新格式"
      ]
    },
    {
      "cell_type": "code",
      "execution_count": null,
      "metadata": {
        "id": "M8uQGrKx1BFF"
      },
      "outputs": [],
      "source": [
        "fig,ax=plt.subplots(1,2,figsize=(10,10))\n",
        "#accuacy\n",
        "#history內的data像是dictionary\n",
        "#利用ax建立子畫布\n",
        "ax[0].plot(history.history['accuracy'])\n",
        "ax[0].plot(history.history['val_accuracy'])\n",
        "ax[0].set_title('Model Accuracy')\n",
        "ax[0].set_ylabel('Accuracy')\n",
        "ax[0].set_xlabel('Epoch')\n",
        "ax[0].legend(['Train','Validation'],loc='upper left')\n",
        "#loss\n",
        "ax[1].plot(history.history['loss'])\n",
        "ax[1].plot(history.history['val_loss'])\n",
        "ax[1].set_title('Model lossy')\n",
        "ax[1].set_ylabel('loss')\n",
        "ax[1].set_xlabel('Epoch')\n",
        "ax[1].legend(['Train','Validation'],loc='upper left')\n",
        "plt.savefig(\"/content/drive/MyDrive/DL/pict/RESULT.png\")\n",
        "plt.show()\n"
      ]
    }
  ],
  "metadata": {
    "accelerator": "GPU",
    "colab": {
      "gpuType": "T4",
      "provenance": [],
      "include_colab_link": true
    },
    "kernelspec": {
      "display_name": "Python 3",
      "name": "python3"
    },
    "language_info": {
      "name": "python"
    }
  },
  "nbformat": 4,
  "nbformat_minor": 0
}