{
  "nbformat": 4,
  "nbformat_minor": 0,
  "metadata": {
    "colab": {
      "provenance": [],
      "gpuType": "T4",
      "include_colab_link": true
    },
    "kernelspec": {
      "name": "python3",
      "display_name": "Python 3"
    },
    "language_info": {
      "name": "python"
    },
    "accelerator": "GPU"
  },
  "cells": [
    {
      "cell_type": "markdown",
      "metadata": {
        "id": "view-in-github",
        "colab_type": "text"
      },
      "source": [
        "<a href=\"https://colab.research.google.com/github/jjwang1118/Human_emotion_predict/blob/main/F1_SCORE.ipynb\" target=\"_parent\"><img src=\"https://colab.research.google.com/assets/colab-badge.svg\" alt=\"Open In Colab\"/></a>"
      ]
    },
    {
      "cell_type": "code",
      "execution_count": null,
      "metadata": {
        "id": "y-lAij6eY1fJ"
      },
      "outputs": [],
      "source": [
        "import pandas as pd\n",
        "import numpy as np\n",
        "from sklearn.metrics import f1_score\n",
        "import tensorflow as tf"
      ]
    },
    {
      "cell_type": "code",
      "source": [
        "from google.colab import drive\n",
        "drive.mount('/content/drive')"
      ],
      "metadata": {
        "id": "mviwAPf9Y5kg",
        "colab": {
          "base_uri": "https://localhost:8080/"
        },
        "outputId": "dc7b4e72-c1db-4a75-c453-ed3a87f26493"
      },
      "execution_count": null,
      "outputs": [
        {
          "output_type": "stream",
          "name": "stdout",
          "text": [
            "Mounted at /content/drive\n"
          ]
        }
      ]
    },
    {
      "cell_type": "code",
      "source": [
        "# 載入 fer2013.csv\n",
        "df = pd.read_csv(\"/content/drive/MyDrive/DL/fer2013.csv\")\n",
        "\n",
        "# 只取測試資料\n",
        "test_df = df[df[\"Usage\"] == \"PrivateTest\"]\n",
        "\n",
        "# 取得影像與標籤\n",
        "X_test = np.array([np.fromstring(pix, sep=' ') for pix in test_df[\"pixels\"]])\n",
        "X_test = X_test.reshape(-1, 48, 48, 1).astype(\"float32\") / 255.0  # 正規化\n",
        "\n",
        "y_test = test_df[\"emotion\"].values  # 類別是 0~\n",
        "for i in range(0,4):\n",
        "  num=\"\"\n",
        "  if i==0:\n",
        "    num=\"\"\n",
        "  else:\n",
        "    num=\"_\"+str(0)+str(i)\n",
        "  model = tf.keras.models.load_model(f\"/content/drive/MyDrive/DL/my_model{num}.h5\")\n",
        "  # 模型預測\n",
        "  y_pred_prob = model.predict(X_test)\n",
        "  y_pred = np.argmax(y_pred_prob, axis=1)\n",
        "\n",
        "  # 計算 macro F1-score\n",
        "  f1 = f1_score(y_test, y_pred, average='macro')\n",
        "  print(\"F1-score (macro):\", f1)\n"
      ],
      "metadata": {
        "id": "LXphD8VYY5hH",
        "colab": {
          "base_uri": "https://localhost:8080/"
        },
        "outputId": "307329ae-8c00-4732-ae9f-ea1eea370a40"
      },
      "execution_count": null,
      "outputs": [
        {
          "output_type": "stream",
          "name": "stderr",
          "text": [
            "WARNING:absl:Compiled the loaded model, but the compiled metrics have yet to be built. `model.compile_metrics` will be empty until you train or evaluate the model.\n"
          ]
        },
        {
          "output_type": "stream",
          "name": "stdout",
          "text": [
            "\u001b[1m113/113\u001b[0m \u001b[32m━━━━━━━━━━━━━━━━━━━━\u001b[0m\u001b[37m\u001b[0m \u001b[1m7s\u001b[0m 37ms/step\n",
            "F1-score (macro): 0.5280642988941101\n"
          ]
        },
        {
          "output_type": "stream",
          "name": "stderr",
          "text": [
            "WARNING:absl:Compiled the loaded model, but the compiled metrics have yet to be built. `model.compile_metrics` will be empty until you train or evaluate the model.\n"
          ]
        },
        {
          "output_type": "stream",
          "name": "stdout",
          "text": [
            "\u001b[1m113/113\u001b[0m \u001b[32m━━━━━━━━━━━━━━━━━━━━\u001b[0m\u001b[37m\u001b[0m \u001b[1m4s\u001b[0m 28ms/step\n",
            "F1-score (macro): 0.5090179406625773\n"
          ]
        },
        {
          "output_type": "stream",
          "name": "stderr",
          "text": [
            "WARNING:absl:Compiled the loaded model, but the compiled metrics have yet to be built. `model.compile_metrics` will be empty until you train or evaluate the model.\n"
          ]
        },
        {
          "output_type": "stream",
          "name": "stdout",
          "text": [
            "\u001b[1m113/113\u001b[0m \u001b[32m━━━━━━━━━━━━━━━━━━━━\u001b[0m\u001b[37m\u001b[0m \u001b[1m4s\u001b[0m 28ms/step\n",
            "F1-score (macro): 0.4632656020141442\n"
          ]
        },
        {
          "output_type": "stream",
          "name": "stderr",
          "text": [
            "WARNING:absl:Compiled the loaded model, but the compiled metrics have yet to be built. `model.compile_metrics` will be empty until you train or evaluate the model.\n"
          ]
        },
        {
          "output_type": "stream",
          "name": "stdout",
          "text": [
            "\u001b[1m 80/113\u001b[0m \u001b[32m━━━━━━━━━━━━━━\u001b[0m\u001b[37m━━━━━━\u001b[0m \u001b[1m0s\u001b[0m 23ms/step"
          ]
        }
      ]
    }
  ]
}